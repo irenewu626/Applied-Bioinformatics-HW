{
 "cells": [
  {
   "cell_type": "markdown",
   "metadata": {},
   "source": [
    "# 1.3 jupyter basics\n",
    "\n",
    "\n",
    "This notebook will demonstrate the basics of working with jupyter notebooks.  We'll practice using the bash commands we learned in the previous slide deck."
   ]
  },
  {
   "cell_type": "markdown",
   "metadata": {},
   "source": [
    "## Creating and running cells\n",
    "First, create a new cell below this one by clicking on this cell and the selecting \"Insert\"->\"Insert Cell Below\".  (NOTE: If you accidentally double-click on this cell and go in *edit mode*, you can return to *command mode* by clicking the \"Run\" button above.)\n",
    "\n",
    "After you've created your new cell, type `2+3` and run the cell.  Play around with other arithmetic operations."
   ]
  },
  {
   "cell_type": "code",
   "execution_count": 3,
   "metadata": {},
   "outputs": [
    {
     "data": {
      "text/plain": [
       "156788"
      ]
     },
     "execution_count": 3,
     "metadata": {},
     "output_type": "execute_result"
    }
   ],
   "source": [
    "2*78394"
   ]
  },
  {
   "cell_type": "markdown",
   "metadata": {},
   "source": [
    "## Running bash commands\n",
    "\n",
    "#### Practice some of your bash commands by adding `%%bash` to the start of a cell.\n",
    "For example, type these commands into a new cell and run it:\n",
    "```\n",
    "%%bash\n",
    "pwd\n",
    "```"
   ]
  },
  {
   "cell_type": "code",
   "execution_count": 4,
   "metadata": {},
   "outputs": [
    {
     "name": "stdout",
     "output_type": "stream",
     "text": [
      "/Users/yin/Applied-Bioinformatics/Module-1_bash-jupyter-git\n"
     ]
    }
   ],
   "source": [
    "%%bash\n",
    "pwd"
   ]
  },
  {
   "cell_type": "markdown",
   "metadata": {},
   "source": [
    "#### Examine the contents of the current directory:\n",
    "```\n",
    "%%bash\n",
    "ls\n",
    "```"
   ]
  },
  {
   "cell_type": "code",
   "execution_count": 5,
   "metadata": {},
   "outputs": [
    {
     "name": "stdout",
     "output_type": "stream",
     "text": [
      "1.3_jupyter-basics.ipynb\n",
      "1.4_working-with-files.ipynb\n",
      "1.5_redirection-and-pipes.ipynb\n",
      "data\n"
     ]
    }
   ],
   "source": [
    "%%bash\n",
    "ls"
   ]
  },
  {
   "cell_type": "markdown",
   "metadata": {},
   "source": [
    "#### Examine the contents of the `data/art` subdirectory\n",
    "```\n",
    "%%bash\n",
    "ls data/art\n",
    "```"
   ]
  },
  {
   "cell_type": "markdown",
   "metadata": {},
   "source": [
    "#### Examine the context of the `artists.txt` file\n",
    "```\n",
    "%%bash\n",
    "cd data/art\n",
    "less artists.txt\n",
    "```"
   ]
  },
  {
   "cell_type": "code",
   "execution_count": 3,
   "metadata": {},
   "outputs": [
    {
     "name": "stdout",
     "output_type": "stream",
     "text": [
      "KILIAN, Wolfgang\t(1581-1662)\tBaroque\tGerman graphic artist (Augsburg)\n",
      "KINSOEN, François-Joseph\t(1771-1839)\tRomanticism\tFlemish painter\n",
      "KISS, August Karl Edouard\t(1802-1865)\tRomanticism\tGerman sculptor\n",
      "KISS, Bálint\t(1802-1868)\tRomanticism\tHungarian painter (Pest)\n",
      "KLEINER, Salomon\t(1703-1761)\tBaroque\tGerman graphic artist\n",
      "KLENZE, Leo von\t(1784-1864)\tRomanticism\tGerman architect\n",
      "KLESECKER, Justus (see GLESKER, Justus)\t(c. 1615-1678)\tBaroque\tGerman sculptor (Franconia)\n",
      "KLINGER, Max\t(1857-1920)\tRealism\tGerman painter\n",
      "KLOCKER, Hans\t(active 1478-1500l)\tNorthern Renaissance\tAustrian sculptor (South Tyrol)\n",
      "KLODT, Mikhail Konstantinovich\t(c. 1832-1902)\tRealism\tRussian painter (St. Petersburg)\n",
      "KLODT, Pyotr Karlovich\t(1805-1867)\tRomanticism\tRussian sculptor (St. Petersburg)\n",
      "TACCA, Ferdinando\t(1619-c. 1688)\tBaroque\tItalian sculptor (Florence)\n",
      "TACCA, Pietro\t(1577-1640)\tBaroque\tItalian sculptor (Florence)\n",
      "TACCONE, Paolo (see PAOLO ROMANO)\t(c. 1415-c. 1470)\tEarly Renaissance\tItalian sculptor (Rome)\n",
      "TADDEO DI BARTOLO\t(1362/63-1422)\tMedieval\tItalian painter (Siena)\n",
      "TADDEO DI FERRARA (see CRIVELLI, Taddeo)\t(active 1451-c. 1479)\tEarly Renaissance\tItalian illuminator (Ferrara)\n",
      "TADOLINI, Scipione\t(1822-1892)\tRealism\tItalian sculptor (Rome)\n",
      "TALENTI, Francesco\t(c. 1300-after 1369)\tMedieval\tItalian architect (Florence)\n",
      "TALENTI, Simone\t(c. 1330-after 1383)\tMedieval\tItalian architect (Florence)\n",
      "TALPA, Bartolo\t(active c. 1495)\tEarly Renaissance\tItalian sculptor (Mantua)\n",
      "TAMAGNI, Vincenzo\t(1492-1530)\tHigh Renaissance\tItalian painter (San Gimignano)\n",
      "TAMAGNINO, Antonio (see PORTA, Antonio della)\t(active 1489–1519)\tEarly Renaissance\tItalian sculptor\n",
      "TAMM, Franz Werner von\t(1658-1724)\tBaroque\tGerman painter\n",
      "TANZIO DA VARALLO\t(c. 1580-c. 1632)\tBaroque\tItalian painter\n",
      "TARAVAL, Guillaume-Thomas-Raphaël\t(1701-1750)\tBaroque\tFrench painter (Stockholm)\n",
      "TARAVAL, Hugues\t(1729-1785)\tRococo\tFrench painter (Paris)\n",
      "TARAVAL, Louis-Gustave\t(1738-1794)\tNeoclassicism\tFrench graphic artist\n",
      "TARBELL, Edmund Charles\t(1862-1938)\tImpressionism\tAmerican painter\n",
      "TARCHIANI, Filippo\t(1576-1645)\tBaroque\tItalian painter (Florence)\n",
      "TARDIEU, Nicolas-Henry\t(1674-1749)\tBaroque\tFrench graphic artist (Paris)\n",
      "TARGONE, Cesare\t(active 1575-1590)\tMannerism\tItalian goldsmith\n",
      "TARSIA, Antonio\t(c. 1662-1739)\tBaroque\tAustrian sculptor (Venice)\n",
      "TARUFFI, Emilio\t(1633-1696)\tBaroque\tItalian painter (Bologna)\n",
      "TASSAERT, Jean-Pierre-Antoine\t(1727-1788)\tRococo\tFlemish sculptor\n",
      "TASSAERT, Octave\t(1800-1874)\tRomanticism\tFrench painter\n",
      "TASSEL, Jean\t(1608-1667)\tBaroque\tFrench painter (Langres)\n",
      "TASSI, Agostino\t(1578-1644)\tBaroque\tItalian painter (Rome)\n",
      "TAUNAY, Nicolas Antoine\t(1755-1830)\tRococo\tFrench painter\n",
      "TEDESCO, Carlo (see SFERINI, Carlo Leopoldo)\t(1652-1698)\tBaroque\tItalian painter (Verona)\n",
      "TEDESCO, Giovanni Paolo (see SCHOR, Johann Paul)\t(1615-1674)\tBaroque\tItalian painter (Rome)\n",
      "TEERLINC, Levina\tc. 1515-1576)\tMannerism\tFlemish miniaturist (London)\n",
      "TELEPY, Károly\t(1828-1906)\tRomanticism\tHungarian painter\n",
      "TEMANZA, Tommaso\t(1705-1789)\tRococo\tItalian architect (Venice)\n",
      "TEMPEL, Abraham van den\t(1622/23-1672)\tBaroque\tDutch painter (Amsterdam)\n",
      "TEMPESTA, Antonio\t(1555-1630)\tBaroque\tItalian painter (Florence)\n",
      "TEMPESTA, Pietro (see MULIER, Pieter the Younger)\t(1637-1701)\tBaroque\tDutch painter (Italy)\n",
      "TENERANI, Pietro\t(1789-1869)\tNeoclassicism\tItalian sculptor\n",
      "TENGNAGEL, Jan\t(1584-1635)\tBaroque\tDutch painter (Amsterdam)\n",
      "TENIERS, Abraham\t(1629-1670)\tBaroque\tFlemish painter (Antwerp)\n",
      "TENIERS, David the Elder\t(1582-1649)\tBaroque\tFlemish painter (Antwerp)\n",
      "TENIERS, David the Younger\t(1610-1690)\tBaroque\tFlemish painter (Antwerp)\n",
      "TERBORCH, Gerard\t(1617-1681)\tBaroque\tDutch painter (Deventer)\n",
      "TERBRUGGHEN, Hendrick\t(1588-1629)\tBaroque\tDutch painter (Utrecht)\n",
      "TERILLI, Francesco\t(active 1610-1630)\tBaroque\tItalian sculptor (Feltre)\n",
      "TERRENI, Giuseppe Maria\t(1739-1811)\tNeoclassicism\tItalian painter (Livorno)\n",
      "TERZIO, Francesco\t(c. 1523-1591)\tMannerism\tItalian painter (Vienna)\n",
      "TESSIN, Nicodemus the Elder\t(1615-1681)\tBaroque\tSwedish architect (Stockholm)\n",
      "TESSIN, Nicodemus the Younger\t(1654-1728)\tBaroque\tSwedish architect (Stockholm)\n",
      "TESTA, Pietro\t(1611-1650)\tBaroque\tItalian painter (Rome)\n",
      "TESTELIN, Henri\t(1616-1695)\tBaroque\tFrench painter\n",
      "TETRODE, Willem Danielsz van\t(c. 1525-c. 1587)\tMannerism\tNetherlandish sculptor\n",
      "KNEBEL, Franz\t(1809-1877)\tRomanticism\tSwiss painter (Rome)\n",
      "KNELLER, Sir Godfrey\t(1646-1723)\tBaroque\tEnglish painter\n",
      "KNIJFF, Jacob\t(1639-1681)\tBaroque\tDutch painter (London)\n",
      "KNIJFF, Wouter\t(c. 1607-after 1693)\tBaroque\tDutch painter (Haarlem)\n",
      "KNIP, Henriëtte\t(1821-1909)\tRealism\tDutch painter (Brussels)\n",
      "KNIP, Henriëtte Geertruida\t(1783-1842)\tRomanticism\tDutch painter\n",
      "KNIP, Josephus Augustus\t(1777-1847)\tRomanticism\tDutch painter\n",
      "KNIP, Mattheus Derk\t(1785-1845)\tRomanticism\tDutch painter\n",
      "KNIP, Nicolaas Frederik\t(1741-1808)\tRococo\tDutch painter\n",
      "KNOBELSDORFF, Georg Wenceslaus von\t(1699-1753)\tBaroque\tGerman architect (Berlin)\n",
      "KNOLLER, Martin\t(1725-1804)\tNeoclassicism\tAustrian painter (Italy)\n",
      "KNÜPFER, Nicolaus\t(c. 1603-1655)\tBaroque\tDutch painter\n",
      "KNYFF, Jacob (see KNIJFF, Jacob)\t(1639-1681)\tBaroque\tDutch painter (London)\n",
      "KNYFF, Wouter (see KNIJFF, Wouter)\t(c. 1607-after 1693)\tBaroque\tDutch painter (Haarlem)\n",
      "KOBELL, Franz\t(1749-1822)\tRococo\tGerman painter (Munich)\n",
      "KOBELL, Hendrik\t(1751-1779)\tRococo\tDutch painter (Rotterdam)\n",
      "KOBELL, Jan I\t(1755-1833)\tRococo\tDutch graphic artist (Rotterdam)\n",
      "KOBELL, Jan II\t(1778-1814)\tNeoclassicism\tDutch painter\n",
      "KOBELL, Wilhelm von\t(1766-1853)\tRomanticism\tGerman painter\n",
      "KOBERGER, Anton\t(c. 1440-1513)\tNorthern Renaissance\tGerman graphic artist (Nuremberg)\n",
      "KŘBKE, Christen\t(1810-1848)\tRomanticism\tDanish painter\n",
      "KOCH, Joseph Anton\t(1768-1839)\tRomanticism\tAustrian painter\n",
      "KOEBERGER, Wenzel (see COBERGHER, Wenceslas)\t(c. 1560-1634)\tBaroque\tFlemish architect\n",
      "KOEDIJCK, Isaack\t(c. 1617-c. 1668)\tBaroque\tDutch painter (Amsterdam)\n",
      "KOEKKOEK, Barend Cornelis\t(1803-1862)\tRomanticism\tDutch painter\n",
      "KOERBECKE, Johann\t(c. 1420-1490)\tNorthern Renaissance\tGerman painter (Münster)\n",
      "KOETS, Roelof\t(c. 1592-1655)\tBaroque\tDutch painter (Haarlem)\n",
      "KOKORINOV, Alexander Filippovich\t(1726-1772)\tBaroque\tRussian architect (St. Petersburg)\n",
      "KOLBE, Carl Wilhelm\t(1759-1835)\tNeoclassicism\tGerman painter\n",
      "KOLLONITSCH, Christian\t(1730-1802)\tRococo\tAustrian painter (Vienna)\n",
      "KOLUNIĆ, Martin (see ROTA, Martino)\t(c. 1520-1583)\tMannerism\tOther painter (Vienna)\n",
      "KOMPE, Jan ten (see COMPE, Jan ten)\t(1713-1761)\tBaroque\tDutch painter (Amsterdam)\n",
      "KÖNIG, Johann\t(1586-1642)\tBaroque\tGerman painter (Augsburg)\n",
      "KONINCK, Daniël de\t(1668-after 1720)\tBaroque\tDutch painter (London)\n",
      "KONINCK, David de (see CONINCK, David de)\t(c. 1644-c. 1701)\tBaroque\tFlemish painter\n",
      "KONINCK, Philips\t(1619-1688)\tBaroque\tDutch painter (Amsterdam)\n",
      "KONINCK, Salomon\t(1609-1656)\tBaroque\tDutch painter (Amsterdam)\n",
      "KONRAD von Soest\t(active 1394-1422)\tNorthern Renaissance\tGerman painter (Westphalie)\n",
      "KOPISCH, August\t(1799-1853)\tRomanticism\tGerman painter (Berlin)\n",
      "AACHEN, Hans von\t(1552-1615)\tMannerism\tGerman painter\n",
      "AAGAARD, Carl Frederik\t(1833-1895)\tRealism\tDanish painter (Copenhagen)\n",
      "ABADIA, Juan de la\t(active 1470-1490)\tEarly Renaissance\tSpanish painter (Huesca)\n",
      "ABAQUESNE, Masséot\t(c 1500-1564)\tHigh Renaissance\tFrench potter\n",
      "ABBATE, Niccolò dell'\t(1509-1571)\tMannerism\tItalian painter (Bologna)\n",
      "ABBATI, Giuseppe\t(1836-1868)\tRealism\tItalian painter\n",
      "ABBATINI, Guido Ubaldo\t(c. 1602-1656)\tBaroque\tItalian painter (Rome)\n",
      "ABBONDI, Antonio di Pietro (see SCARPAGNINO)\t(c. 1465-1549)\tHigh Renaissance\tItalian architect (Venice)\n",
      "ABEELE, Pieter van\t(1608-1684)\tBaroque\tDutch sculptor (Amsterdam)\n",
      "ABILDGAARD, Nicolai\t(1743-1809)\tRomanticism\tDanish painter\n",
      "ABONDIO, Antonio\t(1538-1591)\tMannerism\tItalian sculptor (Vienna)\n",
      "ACERO Y AREBO, Vicente\t(c. 1677-1739)\tBaroque\tSpanish architect\n",
      "ACHENBACH, Oswald\t(1827-1905)\tRealism\tGerman painter (Dusseldorf)\n",
      "ADAM, Albrecht\t(1786-1862)\tRomanticism\tGerman painter (Munich)\n",
      "ADAM, Lambert-Sigisbert\t(1700-1759)\tBaroque\tFrench sculptor (Nancy)\n",
      "ADAM, Nicolas-Sébastien\t(1705-1778)\tBaroque\tFrench sculptor (Nancy)\n",
      "ADAM, Robert\t(1728-1792)\tBaroque\tScottish architect (London)\n",
      "ADAM-SALOMON, Antoine-Samuel\t(1818-1881)\tRealism\tFrench sculptor (Paris)\n",
      "ADELCRANTZ, Carl Fredrik\t(1716-1796)\tNeoclassicism\tSwedish architect\n",
      "ADEMOLLO, Luigi\t(1764-1849)\tNeoclassicism\tItalian painter (Florence)\n",
      "ADLER, Salomon\t(1630-1709)\tBaroque\tGerman painter (Milan)\n",
      "ADOLFZOON, Christoph (see ADOLPHI, Christoffel)\t(c. 1631-1680)\tBaroque\tDutch sculptor (Amsterdam)\n",
      "ADOLPHI, Christoffel\t(c. 1631-1680)\tBaroque\tDutch sculptor (Amsterdam)\n",
      "ADRIAEN VAN UTRECHT (see UTRECHT, Adriaen van)\t(1599-1652)\tBaroque\tFlemish painter\n",
      "ADRIAENSSEN, Alexander\t(1587-1661)\tBaroque\tFlemish painter (Antwerp)\n",
      "ADRIANO FIORENTINO\t(ca. 1455-1499)\tEarly Renaissance\tItalian sculptor (Florence)\n",
      "AELST, Willem van\t(1627-c. 1683)\tBaroque\tDutch painter (Delft)\n",
      "AENVANCK, Theodoor\t(1633-1690)\tBaroque\tFlemish painter (Antwerp)\n",
      "AERT VAN ORT\t(active 1490-1536)\tNorthern Renaissance\tFlemish glass painter\n",
      "AERTSEN, Pieter\t(1508-1575)\tNorthern Renaissance\tNetherlandish painter (Amsterdam)\n",
      "AGASSE, Jacques-Laurent\t(1767-1849)\tNeoclassicism\tSwiss painter (London)\n",
      "AGNOLO DA SIENA (see AGNOLO DI VENTURA)\t(active 1311-1349)\tMedieval\tItalian sculptor (Siena)\n",
      "AGNOLO DI POLO\t(c. 1470-after 1498)\tEarly Renaissance\tItalian sculptor (Florence)\n",
      "AGNOLO DI VENTURA\t(active 1311-1349)\tMedieval\tItalian sculptor (Siena)\n",
      "AGOSTINO DI DUCCIO\t(1418-1481)\tEarly Renaissance\tItalian sculptor (Rimini)\n",
      "AGOSTINO DI GIOVANNI\t(active 1310-1347)\tMedieval\tItalian sculptor (Siena)\n",
      "AGOSTINO VENEZIANO (see MUSI, Agostino dei)\t(c. 1490-c. 1536)\tHigh Renaissance\tItalian graphic artist\n",
      "AGRATE, Gian Francesco Ferrari d'\t(1489-c. 1563)\tHigh Renaissance\tItalian sculptor (Parma)\n",
      "AGUADO LÓPEZ, Antonio\t(1764-1831)\tNeoclassicism\tSpanish architect (Madrid)\n",
      "AIVAZOVSKY, Ivan Konstantinovich\t(1817-1900)\tRealism\tRussian painter\n",
      "AKEN, Joseph van\t(c. 1699-1749)\tRococo\tFlemish painter (London)\n",
      "AKOTANTOS, Angelos\t(?-c. 1457)\tMedieval\tGreek painter (Crete)\n",
      "ALBA, Macrino d'\t(c. 1460-c. 1528)\tEarly Renaissance\tItalian painter (Alba)\n",
      "ALBANI, Francesco\t(1578-1660)\tBaroque\tItalian painter (Bologna)\n",
      "ALBEREGNO, Jacobello\t(died before1397)\tMedieval\tItalian painter (Venice)\n",
      "ALBERTI, Antonio\t(c. 1390-c. 1442)\tEarly Renaissance\tItalian painter (Urbino)\n",
      "ALBERTI, Cherubino\t(1553-1615)\tMannerism\tItalian painter (Rome)\n",
      "ALBERTI, Giovanni\t(1558-1601)\tMannerism\tItalian painter (Rome)\n",
      "ALBERTI, Leon Battista\t(1404-1472)\tEarly Renaissance\tItalian architect\n",
      "ALBERTINELLI, Mariotto\t(1474-1515)\tEarly Renaissance\tItalian painter (Florence)"
     ]
    }
   ],
   "source": [
    "%%bash\n",
    "cd data/art\n",
    "less artists.txt"
   ]
  },
  {
   "cell_type": "markdown",
   "metadata": {},
   "source": [
    "#### What year was the painter Giuseppe Abbati born in?\n",
    "Find and correct the error...\n",
    "```\n",
    "%%bash\n",
    "cd data/art\n",
    "grep Abbati artists.txt\n",
    "```"
   ]
  },
  {
   "cell_type": "code",
   "execution_count": 17,
   "metadata": {},
   "outputs": [
    {
     "name": "stdout",
     "output_type": "stream",
     "text": [
      "ABBATI, Giuseppe\t(1836-1868)\tRealism\tItalian painter\n",
      "ABBATINI, Guido Ubaldo\t(c. 1602-1656)\tBaroque\tItalian painter (Rome)\n"
     ]
    }
   ],
   "source": [
    "%%bash\n",
    "cd data/art\n",
    "grep -i Abbati artists.txt"
   ]
  },
  {
   "cell_type": "markdown",
   "metadata": {},
   "source": [
    "#### How many Italian painters are listed in `artists.txt`?\n",
    "Find and correct the error...\n",
    "```\n",
    "%%bash\n",
    "cd /data/art\n",
    "grep -c Italian painters artists.txt\n",
    "```"
   ]
  },
  {
   "cell_type": "code",
   "execution_count": 5,
   "metadata": {},
   "outputs": [
    {
     "name": "stdout",
     "output_type": "stream",
     "text": [
      "23\n"
     ]
    }
   ],
   "source": [
    "%%bash\n",
    "cd data/art\n",
    "grep -c \"Italian painter\" artists.txt"
   ]
  },
  {
   "cell_type": "markdown",
   "metadata": {},
   "source": [
    "## Homework\n",
    "\n",
    "These problems will test your understanding of both basic bash commands and of the jupyter notebook.  Answer each of the questions below by creating and executing a new code cell underneath each question."
   ]
  },
  {
   "cell_type": "markdown",
   "metadata": {},
   "source": [
    "### HW1: Use the `ls` command to sort all files in `data/art` by file size."
   ]
  },
  {
   "cell_type": "code",
   "execution_count": 11,
   "metadata": {},
   "outputs": [
    {
     "name": "stdout",
     "output_type": "stream",
     "text": [
      "file1.txt\n",
      "file10.txt\n",
      "file100.txt\n",
      "file101.txt\n",
      "file102.txt\n",
      "file103.txt\n",
      "file104.txt\n",
      "file105.txt\n",
      "file106.txt\n",
      "file107.txt\n",
      "file108.txt\n",
      "file109.txt\n",
      "file11.txt\n",
      "file110.txt\n",
      "file111.txt\n",
      "file114.txt\n",
      "file115.txt\n",
      "file116.txt\n",
      "file117.txt\n",
      "file118.txt\n",
      "file119.txt\n",
      "file12.txt\n",
      "file120.txt\n",
      "file121.txt\n",
      "file122.txt\n",
      "file123.txt\n",
      "file124.txt\n",
      "file125.txt\n",
      "file126.txt\n",
      "file127.txt\n",
      "file128.txt\n",
      "file129.txt\n",
      "file13.txt\n",
      "file130.txt\n",
      "file131.txt\n",
      "file132.txt\n",
      "file133.txt\n",
      "file134.txt\n",
      "file135.txt\n",
      "file136.txt\n",
      "file138.txt\n",
      "file139.txt\n",
      "file14.txt\n",
      "file140.txt\n",
      "file141.txt\n",
      "file142.txt\n",
      "file143.txt\n",
      "file144.txt\n",
      "file145.txt\n",
      "file146.txt\n",
      "file147.txt\n",
      "file148.txt\n",
      "file149.txt\n",
      "file15.txt\n",
      "file150.txt\n",
      "file151.txt\n",
      "file152.txt\n",
      "file153.txt\n",
      "file154.txt\n",
      "file155.txt\n",
      "file156.txt\n",
      "file157.txt\n",
      "file158.txt\n",
      "file159.txt\n",
      "file16.txt\n",
      "file160.txt\n",
      "file161.txt\n",
      "file162.txt\n",
      "file163.txt\n",
      "file164.txt\n",
      "file165.txt\n",
      "file166.txt\n",
      "file167.txt\n",
      "file168.txt\n",
      "file169.txt\n",
      "file17.txt\n",
      "file170.txt\n",
      "file171.txt\n",
      "file172.txt\n",
      "file173.txt\n",
      "file174.txt\n",
      "file175.txt\n",
      "file176.txt\n",
      "file177.txt\n",
      "file178.txt\n",
      "file179.txt\n",
      "file18.txt\n",
      "file180.txt\n",
      "file181.txt\n",
      "file182.txt\n",
      "file183.txt\n",
      "file184.txt\n",
      "file185.txt\n",
      "file186.txt\n",
      "file187.txt\n",
      "file188.txt\n",
      "file189.txt\n",
      "file19.txt\n",
      "file190.txt\n",
      "file191.txt\n",
      "file192.csv\n",
      "file192.txt\n",
      "file193.txt\n",
      "file194.txt\n",
      "file195.txt\n",
      "file196.txt\n",
      "file197.txt\n",
      "file198.txt\n",
      "file199.txt\n",
      "file2.txt\n",
      "file200.txt\n",
      "file21.txt\n",
      "file22.txt\n",
      "file23.txt\n",
      "file24.txt\n",
      "file25.txt\n",
      "file26.txt\n",
      "file27.txt\n",
      "file28.txt\n",
      "file29.txt\n",
      "file3.txt\n",
      "file30.txt\n",
      "file31.txt\n",
      "file32.txt\n",
      "file33.csv\n",
      "file33.txt\n",
      "file34.txt\n",
      "file35.txt\n",
      "file36.txt\n",
      "file38.txt\n",
      "file39.txt\n",
      "file4.txt\n",
      "file40.txt\n",
      "file41.txt\n",
      "file42.txt\n",
      "file44.txt\n",
      "file45.txt\n",
      "file46.txt\n",
      "file47.txt\n",
      "file48.txt\n",
      "file49.txt\n",
      "file5.txt\n",
      "file50.txt\n",
      "file51.txt\n",
      "file52.txt\n",
      "file53.txt\n",
      "file54.txt\n",
      "file55.txt\n",
      "file56.txt\n",
      "file57.txt\n",
      "file58.txt\n",
      "file59.txt\n",
      "file6.txt\n",
      "file60.txt\n",
      "file61.txt\n",
      "file62.txt\n",
      "file64.txt\n",
      "file65.txt\n",
      "file66.txt\n",
      "file67.txt\n",
      "file68.txt\n",
      "file69.txt\n",
      "file7.txt\n",
      "file70.txt\n",
      "file71.txt\n",
      "file72.txt\n",
      "file73.txt\n",
      "file74.txt\n",
      "file75.txt\n",
      "file76.txt\n",
      "file77.txt\n",
      "file78.txt\n",
      "file79.txt\n",
      "file8.txt\n",
      "file80.txt\n",
      "file81.txt\n",
      "file82.txt\n",
      "file84.txt\n",
      "file85.txt\n",
      "file86.txt\n",
      "file87.txt\n",
      "file88.txt\n",
      "file89.txt\n",
      "file9.txt\n",
      "file90.txt\n",
      "file91.txt\n",
      "file92.txt\n",
      "file93.txt\n",
      "file94.txt\n",
      "file96.csv\n",
      "file96.txt\n",
      "file97.txt\n",
      "file98.txt\n",
      "file99.txt\n"
     ]
    }
   ],
   "source": [
    "%%bash\n",
    "cd data/tmp\n",
    "ls"
   ]
  },
  {
   "cell_type": "markdown",
   "metadata": {},
   "source": [
    "### HW2: Count the number of artists in `artists.txt` *excluding* French painters."
   ]
  },
  {
   "cell_type": "code",
   "execution_count": 27,
   "metadata": {},
   "outputs": [
    {
     "name": "stdout",
     "output_type": "stream",
     "text": [
      "     149 artists.txt\n",
      "6\n"
     ]
    }
   ],
   "source": [
    "%%bash \n",
    "cd data/art\n",
    "wc -l artists.txt\n",
    "grep -c \"French painter\" artists.txt"
   ]
  },
  {
   "cell_type": "code",
   "execution_count": 1,
   "metadata": {},
   "outputs": [
    {
     "name": "stdout",
     "output_type": "stream",
     "text": [
      "144\n"
     ]
    }
   ],
   "source": [
    "%%bash\n",
    "grep -v \"French painter\" -c data/art/artists.txt"
   ]
  },
  {
   "cell_type": "markdown",
   "metadata": {},
   "source": [
    "### HW3: List only the csv files in `data/tmp`."
   ]
  },
  {
   "cell_type": "code",
   "execution_count": 28,
   "metadata": {},
   "outputs": [
    {
     "name": "stdout",
     "output_type": "stream",
     "text": [
      "file192.csv\n",
      "file33.csv\n",
      "file96.csv\n"
     ]
    }
   ],
   "source": [
    "%%bash\n",
    "cd data/tmp\n",
    "ls *.csv"
   ]
  }
 ],
 "metadata": {
  "kernelspec": {
   "display_name": "Python 3",
   "language": "python",
   "name": "python3"
  },
  "language_info": {
   "codemirror_mode": {
    "name": "ipython",
    "version": 3
   },
   "file_extension": ".py",
   "mimetype": "text/x-python",
   "name": "python",
   "nbconvert_exporter": "python",
   "pygments_lexer": "ipython3",
   "version": "3.6.5"
  }
 },
 "nbformat": 4,
 "nbformat_minor": 2
}
